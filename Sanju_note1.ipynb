{
 "cells": [
  {
   "cell_type": "markdown",
   "metadata": {},
   "source": [
    "# For my note on Python"
   ]
  },
  {
   "cell_type": "markdown",
   "metadata": {},
   "source": [
    "Python is a programming language that lets you work, 1) more quickly 2) integrate your systems more effectively."
   ]
  },
  {
   "cell_type": "markdown",
   "metadata": {},
   "source": [
    "# providing range"
   ]
  },
  {
   "cell_type": "code",
   "execution_count": 1,
   "metadata": {},
   "outputs": [
    {
     "name": "stdout",
     "output_type": "stream",
     "text": [
      "(0, 10, 0.1)\n",
      "5\n"
     ]
    }
   ],
   "source": [
    "# Program-1\n",
    "# print number, one or more\n",
    "X = (0,10,0.1)                    # multiple inputs, tke care of bracket ()\n",
    "#X=[0,10]\n",
    "y=5                               #single input\n",
    "print(X)\n",
    "print(y)"
   ]
  },
  {
   "cell_type": "code",
   "execution_count": 4,
   "metadata": {},
   "outputs": [
    {
     "name": "stdout",
     "output_type": "stream",
     "text": [
      "[0, 1, 2, 3, 4, 5, 6, 7, 8, 9, 10, 11, 12, 13, 14, 15, 16, 17, 18, 19, 20, 21, 22, 23, 24, 25, 26, 27, 28, 29, 30, 31, 32, 33, 34, 35, 36, 37, 38, 39, 40, 41, 42, 43, 44, 45, 46, 47, 48, 49, 50, 51, 52, 53, 54, 55, 56, 57, 58, 59, 60, 61, 62, 63, 64, 65, 66, 67, 68, 69, 70, 71, 72, 73, 74, 75, 76, 77, 78, 79, 80, 81, 82, 83, 84, 85, 86, 87, 88, 89, 90, 91, 92, 93, 94, 95, 96, 97, 98, 99, 100]\n"
     ]
    },
    {
     "data": {
      "text/plain": [
       "5050"
      ]
     },
     "execution_count": 4,
     "metadata": {},
     "output_type": "execute_result"
    }
   ],
   "source": [
    "# program-2\n",
    "# print range of numbers and sum of the numbers\n",
    "L = [x for x in range(101)]   # multiple inputs, tke care of bracket []\n",
    "#L=(x for x in range(101)  does not work\n",
    "print(L)\n",
    "sum(L)"
   ]
  },
  {
   "cell_type": "code",
   "execution_count": 9,
   "metadata": {},
   "outputs": [
    {
     "name": "stdout",
     "output_type": "stream",
     "text": [
      "[1, 6, 11, 16, 21, 26, 31, 36, 41, 46, 51, 56, 61, 66, 71, 76, 81, 86, 91, 96]\n",
      "[1, 3, 5, 7, 9, 11, 13, 15, 17, 19, 21, 23, 25, 27, 29, 31, 33, 35, 37, 39, 41, 43, 45, 47, 49, 51, 53, 55, 57, 59, 61, 63, 65, 67, 69, 71, 73, 75, 77, 79, 81, 83, 85, 87, 89, 91, 93, 95, 97, 99]\n"
     ]
    }
   ],
   "source": [
    "# program-3\n",
    "# print range of numbers with interval of 5 and odd numbers\n",
    "L = [x for x in range(1,100,5)]\n",
    "print(L)\n",
    "LL = [xx for xx in range(1,100,2)]\n",
    "print(LL)"
   ]
  },
  {
   "cell_type": "markdown",
   "metadata": {},
   "source": [
    "# use of numpy (python dictionary word with their notation)"
   ]
  },
  {
   "cell_type": "code",
   "execution_count": 10,
   "metadata": {},
   "outputs": [
    {
     "name": "stdout",
     "output_type": "stream",
     "text": [
      "[1.  1.1 1.2 1.3 1.4 1.5 1.6 1.7 1.8 1.9 2.  2.1 2.2 2.3 2.4 2.5 2.6 2.7\n",
      " 2.8 2.9 3.  3.1]\n"
     ]
    }
   ],
   "source": [
    "# Protram-4\n",
    "# numpy learning section with pi and its vaues 0 to 3.14 with interval 0.1\n",
    "import numpy as np  # is must needed\n",
    "X = np.arange(1,np.pi,0.1) # np.pi notation is very important\n",
    "print(X)"
   ]
  },
  {
   "cell_type": "code",
   "execution_count": 12,
   "metadata": {},
   "outputs": [
    {
     "name": "stdout",
     "output_type": "stream",
     "text": [
      "{'exp': [1.0, 1.6487212707001282, 2.718281828459045, 4.4816890703380645, 7.38905609893065, 12.182493960703473, 20.085536923187668]}\n"
     ]
    }
   ],
   "source": [
    "#program-8 exp or log or sin or coms or tan\n",
    "import numpy as np\n",
    "X = np.arange(0,np.pi,0.5)\n",
    "M = {\"exp\": [np.exp(x) for x in X]}\n",
    "#{\"cos\": [np.cos(x) for x in X]}\n",
    "print (M)"
   ]
  },
  {
   "cell_type": "code",
   "execution_count": 13,
   "metadata": {},
   "outputs": [
    {
     "name": "stdout",
     "output_type": "stream",
     "text": [
      "{'log': [-inf, -0.6931471805599453, 0.0, 0.4054651081081644, 0.6931471805599453, 0.9162907318741551, 1.0986122886681098]}\n"
     ]
    },
    {
     "name": "stderr",
     "output_type": "stream",
     "text": [
      "/home/sanju/anaconda3/lib/python3.7/site-packages/ipykernel_launcher.py:4: RuntimeWarning: divide by zero encountered in log\n",
      "  after removing the cwd from sys.path.\n"
     ]
    }
   ],
   "source": [
    "#program-9\n",
    "import numpy as np\n",
    "X = np.arange(0,np.pi,0.5)\n",
    "M = {\"log\": [np.log(x) for x in X]}\n",
    "#{\"cos\": [np.cos(x) for x in X]}\n",
    "print (M)\n"
   ]
  },
  {
   "cell_type": "markdown",
   "metadata": {},
   "source": [
    "# use of pandas¶"
   ]
  },
  {
   "cell_type": "code",
   "execution_count": 14,
   "metadata": {},
   "outputs": [
    {
     "data": {
      "text/html": [
       "<div>\n",
       "<style scoped>\n",
       "    .dataframe tbody tr th:only-of-type {\n",
       "        vertical-align: middle;\n",
       "    }\n",
       "\n",
       "    .dataframe tbody tr th {\n",
       "        vertical-align: top;\n",
       "    }\n",
       "\n",
       "    .dataframe thead th {\n",
       "        text-align: right;\n",
       "    }\n",
       "</style>\n",
       "<table border=\"1\" class=\"dataframe\">\n",
       "  <thead>\n",
       "    <tr style=\"text-align: right;\">\n",
       "      <th></th>\n",
       "      <th>sin</th>\n",
       "    </tr>\n",
       "  </thead>\n",
       "  <tbody>\n",
       "    <tr>\n",
       "      <th>0</th>\n",
       "      <td>0.000000</td>\n",
       "    </tr>\n",
       "    <tr>\n",
       "      <th>1</th>\n",
       "      <td>0.295520</td>\n",
       "    </tr>\n",
       "    <tr>\n",
       "      <th>2</th>\n",
       "      <td>0.564642</td>\n",
       "    </tr>\n",
       "    <tr>\n",
       "      <th>3</th>\n",
       "      <td>0.783327</td>\n",
       "    </tr>\n",
       "    <tr>\n",
       "      <th>4</th>\n",
       "      <td>0.932039</td>\n",
       "    </tr>\n",
       "    <tr>\n",
       "      <th>5</th>\n",
       "      <td>0.997495</td>\n",
       "    </tr>\n",
       "    <tr>\n",
       "      <th>6</th>\n",
       "      <td>0.973848</td>\n",
       "    </tr>\n",
       "    <tr>\n",
       "      <th>7</th>\n",
       "      <td>0.863209</td>\n",
       "    </tr>\n",
       "    <tr>\n",
       "      <th>8</th>\n",
       "      <td>0.675463</td>\n",
       "    </tr>\n",
       "    <tr>\n",
       "      <th>9</th>\n",
       "      <td>0.427380</td>\n",
       "    </tr>\n",
       "    <tr>\n",
       "      <th>10</th>\n",
       "      <td>0.141120</td>\n",
       "    </tr>\n",
       "  </tbody>\n",
       "</table>\n",
       "</div>"
      ],
      "text/plain": [
       "         sin\n",
       "0   0.000000\n",
       "1   0.295520\n",
       "2   0.564642\n",
       "3   0.783327\n",
       "4   0.932039\n",
       "5   0.997495\n",
       "6   0.973848\n",
       "7   0.863209\n",
       "8   0.675463\n",
       "9   0.427380\n",
       "10  0.141120"
      ]
     },
     "execution_count": 14,
     "metadata": {},
     "output_type": "execute_result"
    }
   ],
   "source": [
    "#program-10\n",
    "# use of pandas for datalist or fram \n",
    "import numpy as np   # import should be used bofore the used of the term\n",
    "X = np.arange(0,np.pi,0.3)\n",
    "M = {\"sin\": [np.sin(x) for x in X]}\n",
    "#print (M)\n",
    "import pandas as pd  # import should be used bofore the used of the term\n",
    "DF = pd.DataFrame(M)\n",
    "DF"
   ]
  },
  {
   "cell_type": "code",
   "execution_count": 1,
   "metadata": {},
   "outputs": [
    {
     "data": {
      "text/html": [
       "<div>\n",
       "<style scoped>\n",
       "    .dataframe tbody tr th:only-of-type {\n",
       "        vertical-align: middle;\n",
       "    }\n",
       "\n",
       "    .dataframe tbody tr th {\n",
       "        vertical-align: top;\n",
       "    }\n",
       "\n",
       "    .dataframe thead th {\n",
       "        text-align: right;\n",
       "    }\n",
       "</style>\n",
       "<table border=\"1\" class=\"dataframe\">\n",
       "  <thead>\n",
       "    <tr style=\"text-align: right;\">\n",
       "      <th></th>\n",
       "      <th>sin</th>\n",
       "      <th>cos</th>\n",
       "    </tr>\n",
       "  </thead>\n",
       "  <tbody>\n",
       "    <tr>\n",
       "      <th>0</th>\n",
       "      <td>0.000000</td>\n",
       "      <td>1.000000</td>\n",
       "    </tr>\n",
       "    <tr>\n",
       "      <th>1</th>\n",
       "      <td>0.479426</td>\n",
       "      <td>0.877583</td>\n",
       "    </tr>\n",
       "    <tr>\n",
       "      <th>2</th>\n",
       "      <td>0.841471</td>\n",
       "      <td>0.540302</td>\n",
       "    </tr>\n",
       "    <tr>\n",
       "      <th>3</th>\n",
       "      <td>0.997495</td>\n",
       "      <td>0.070737</td>\n",
       "    </tr>\n",
       "    <tr>\n",
       "      <th>4</th>\n",
       "      <td>0.909297</td>\n",
       "      <td>-0.416147</td>\n",
       "    </tr>\n",
       "    <tr>\n",
       "      <th>5</th>\n",
       "      <td>0.598472</td>\n",
       "      <td>-0.801144</td>\n",
       "    </tr>\n",
       "    <tr>\n",
       "      <th>6</th>\n",
       "      <td>0.141120</td>\n",
       "      <td>-0.989992</td>\n",
       "    </tr>\n",
       "  </tbody>\n",
       "</table>\n",
       "</div>"
      ],
      "text/plain": [
       "        sin       cos\n",
       "0  0.000000  1.000000\n",
       "1  0.479426  0.877583\n",
       "2  0.841471  0.540302\n",
       "3  0.997495  0.070737\n",
       "4  0.909297 -0.416147\n",
       "5  0.598472 -0.801144\n",
       "6  0.141120 -0.989992"
      ]
     },
     "execution_count": 1,
     "metadata": {},
     "output_type": "execute_result"
    }
   ],
   "source": [
    "#program-11 \n",
    "import numpy as np\n",
    "X = np.arange(0,np.pi,0.5)\n",
    "M = {\"sin\": [np.sin(x) for x in X],\\\n",
    "     \"cos\": [np.cos(x) for x in X]}\n",
    "#     \"plo\":[(x*x+x+1) for x in X],\\\n",
    "#     \"trig\": [np.cos(x) + np.sin(x) for x in X]}\n",
    "#print (M)\n",
    "import pandas as pd\n",
    "DF = pd.DataFrame(M)\n",
    "DF"
   ]
  },
  {
   "cell_type": "code",
   "execution_count": 2,
   "metadata": {},
   "outputs": [
    {
     "name": "stdout",
     "output_type": "stream",
     "text": [
      "[0.  0.5 1.  1.5 2.  2.5 3. ]\n"
     ]
    },
    {
     "data": {
      "text/html": [
       "<div>\n",
       "<style scoped>\n",
       "    .dataframe tbody tr th:only-of-type {\n",
       "        vertical-align: middle;\n",
       "    }\n",
       "\n",
       "    .dataframe tbody tr th {\n",
       "        vertical-align: top;\n",
       "    }\n",
       "\n",
       "    .dataframe thead th {\n",
       "        text-align: right;\n",
       "    }\n",
       "</style>\n",
       "<table border=\"1\" class=\"dataframe\">\n",
       "  <thead>\n",
       "    <tr style=\"text-align: right;\">\n",
       "      <th></th>\n",
       "      <th>sin</th>\n",
       "      <th>cos</th>\n",
       "    </tr>\n",
       "  </thead>\n",
       "  <tbody>\n",
       "    <tr>\n",
       "      <th>0</th>\n",
       "      <td>0.000000</td>\n",
       "      <td>1.000000</td>\n",
       "    </tr>\n",
       "    <tr>\n",
       "      <th>1</th>\n",
       "      <td>0.479426</td>\n",
       "      <td>0.877583</td>\n",
       "    </tr>\n",
       "    <tr>\n",
       "      <th>2</th>\n",
       "      <td>0.841471</td>\n",
       "      <td>0.540302</td>\n",
       "    </tr>\n",
       "    <tr>\n",
       "      <th>3</th>\n",
       "      <td>0.997495</td>\n",
       "      <td>0.070737</td>\n",
       "    </tr>\n",
       "    <tr>\n",
       "      <th>4</th>\n",
       "      <td>0.909297</td>\n",
       "      <td>-0.416147</td>\n",
       "    </tr>\n",
       "    <tr>\n",
       "      <th>5</th>\n",
       "      <td>0.598472</td>\n",
       "      <td>-0.801144</td>\n",
       "    </tr>\n",
       "    <tr>\n",
       "      <th>6</th>\n",
       "      <td>0.141120</td>\n",
       "      <td>-0.989992</td>\n",
       "    </tr>\n",
       "  </tbody>\n",
       "</table>\n",
       "</div>"
      ],
      "text/plain": [
       "        sin       cos\n",
       "0  0.000000  1.000000\n",
       "1  0.479426  0.877583\n",
       "2  0.841471  0.540302\n",
       "3  0.997495  0.070737\n",
       "4  0.909297 -0.416147\n",
       "5  0.598472 -0.801144\n",
       "6  0.141120 -0.989992"
      ]
     },
     "execution_count": 2,
     "metadata": {},
     "output_type": "execute_result"
    }
   ],
   "source": [
    "#program-12 \n",
    "import numpy as np\n",
    "X = np.arange(0,np.pi,0.5)\n",
    "M = {\"sin\": [np.sin(x) for x in X],\\\n",
    "     \"cos\": [np.cos(x) for x in X]}\n",
    "#     \"plo\":[(x*x+x+1) for x in X],\\\n",
    "#     \"trig\": [np.cos(x) + np.sin(x) for x in X]}\n",
    "#print (M)\n",
    "import pandas as pd\n",
    "print (X)\n",
    "DF = pd.DataFrame(M)\n",
    "DF"
   ]
  },
  {
   "cell_type": "code",
   "execution_count": 26,
   "metadata": {},
   "outputs": [
    {
     "data": {
      "text/plain": [
       "<matplotlib.axes._subplots.AxesSubplot at 0xa90b814c>"
      ]
     },
     "execution_count": 26,
     "metadata": {},
     "output_type": "execute_result"
    },
    {
     "data": {
      "image/png": "[encoded data removed]",
      "text/plain": [
       "<Figure size 432x288 with 1 Axes>"
      ]
     },
     "metadata": {
      "needs_background": "light"
     },
     "output_type": "display_data"
    }
   ],
   "source": [
    "#program-13\n",
    "import numpy as np\n",
    "X = np.arange(0,np.pi,0.1)\n",
    "M = {\"tan\": [np.tan(x) for x in X]}   #,\\\n",
    "    # \"cos\": [np.cos(x) for x in X],\\\n",
    "     #\"plo\":[(x*x+x+1) for x in X],\\\n",
    "     #\"trig\": [np.cos(x) + np.sin(x) for x in X]}%matplotlib inlineN=M = {\"exp\": [np.exp(x) for x in X]}\n",
    "#DF.plot()\n",
    "import pandas as pd\n",
    "DF = pd.DataFrame(M)\n",
    "DF\n",
    "#M\n",
    "%matplotlib inline\n",
    "DF.plot()"
   ]
  },
  {
   "cell_type": "code",
   "execution_count": 27,
   "metadata": {},
   "outputs": [
    {
     "data": {
      "text/plain": [
       "<matplotlib.axes._subplots.AxesSubplot at 0xa8dd030c>"
      ]
     },
     "execution_count": 27,
     "metadata": {},
     "output_type": "execute_result"
    },
    {
     "data": {
      "image/png": "[encoded data removed]",
      "text/plain": [
       "<Figure size 432x288 with 1 Axes>"
      ]
     },
     "metadata": {
      "needs_background": "light"
     },
     "output_type": "display_data"
    }
   ],
   "source": [
    "# program-13\n",
    "import numpy as np\n",
    "X = np.arange(0,np.pi,0.1)\n",
    "M = {\"exp\": [np.exp(x) for x in X]}   #,\\\n",
    "    # \"cos\": [np.cos(x) for x in X],\\\n",
    "     #\"plo\":[(x*x+x+1) for x in X],\\\n",
    "     #\"trig\": [np.cos(x) + np.sin(x) for x in X]}%matplotlib inlineN=M = {\"exp\": [np.exp(x) for x in X]}\n",
    "#DF.plot()\n",
    "import pandas as pd\n",
    "DF = pd.DataFrame(M)\n",
    "DF\n",
    "#M\n",
    "%matplotlib inline\n",
    "DF.plot()"
   ]
  },
  {
   "cell_type": "code",
   "execution_count": 28,
   "metadata": {},
   "outputs": [
    {
     "data": {
      "text/plain": [
       "<matplotlib.axes._subplots.AxesSubplot at 0xa8d6572c>"
      ]
     },
     "execution_count": 28,
     "metadata": {},
     "output_type": "execute_result"
    },
    {
     "data": {
      "image/png": "[encoded data removed]",
      "text/plain": [
       "<Figure size 432x288 with 1 Axes>"
      ]
     },
     "metadata": {
      "needs_background": "light"
     },
     "output_type": "display_data"
    }
   ],
   "source": [
    "# program-14\n",
    "import numpy as np\n",
    "X = np.arange(0,np.pi,0.1)\n",
    "M = {\"exp\": [np.exp(-x) for x in X]}   #,\\\n",
    "    # \"cos\": [np.cos(x) for x in X],\\\n",
    "     #\"plo\":[(x*x+x+1) for x in X],\\\n",
    "     #\"trig\": [np.cos(x) + np.sin(x) for x in X]}%matplotlib inlineN=M = {\"exp\": [np.exp(x) for x in X]}\n",
    "#DF.plot()\n",
    "import pandas as pd\n",
    "DF = pd.DataFrame(M)\n",
    "DF\n",
    "#M\n",
    "%matplotlib inline\n",
    "DF.plot()"
   ]
  },
  {
   "cell_type": "code",
   "execution_count": 31,
   "metadata": {},
   "outputs": [
    {
     "data": {
      "text/plain": [
       "<matplotlib.axes._subplots.AxesSubplot at 0xa8cb0f6c>"
      ]
     },
     "execution_count": 31,
     "metadata": {},
     "output_type": "execute_result"
    },
    {
     "data": {
      "image/png": "[encoded data removed]",
      "text/plain": [
       "<Figure size 432x288 with 1 Axes>"
      ]
     },
     "metadata": {
      "needs_background": "light"
     },
     "output_type": "display_data"
    }
   ],
   "source": [
    "# program-15\n",
    "import numpy as np\n",
    "X = np.arange(0,np.pi,0.1)\n",
    "M = {\"exp\": [(1-np.exp(-x)) for x in X]}   #,\\\n",
    "    # \"cos\": [np.cos(x) for x in X],\\\n",
    "     #\"plo\":[(x*x+x+1) for x in X],\\\n",
    "     #\"trig\": [np.cos(x) + np.sin(x) for x in X]}%matplotlib inlineN=M = {\"exp\": [np.exp(x) for x in X]}\n",
    "#DF.plot()\n",
    "import pandas as pd\n",
    "DF = pd.DataFrame(M)\n",
    "DF\n",
    "#M\n",
    "%matplotlib inline\n",
    "DF.plot()"
   ]
  },
  {
   "cell_type": "markdown",
   "metadata": {},
   "source": [
    "# Loop and Condtion for my purpose¶"
   ]
  },
  {
   "cell_type": "markdown",
   "metadata": {},
   "source": [
    "## Single Loop in different ways"
   ]
  },
  {
   "cell_type": "code",
   "execution_count": 4,
   "metadata": {},
   "outputs": [
    {
     "data": {
      "text/plain": [
       "<matplotlib.axes._subplots.AxesSubplot at 0xa8fd77cc>"
      ]
     },
     "execution_count": 4,
     "metadata": {},
     "output_type": "execute_result"
    },
    {
     "data": {
      "image/png": "[encoded data removed]",
      "text/plain": [
       "<Figure size 432x288 with 1 Axes>"
      ]
     },
     "metadata": {
      "needs_background": "light"
     },
     "output_type": "display_data"
    },
    {
     "data": {
      "image/png": "[encoded data removed]",
      "text/plain": [
       "<Figure size 432x288 with 1 Axes>"
      ]
     },
     "metadata": {
      "needs_background": "light"
     },
     "output_type": "display_data"
    }
   ],
   "source": [
    "# program-16\n",
    "import numpy as np\n",
    "X = np.arange(0,np.pi,0.1)\n",
    "M = {\"exp\": [np.exp(-x) for x in X]}   #,\\\n",
    "N = {\"exp\": [(1-np.exp(-x)) for x in X]}\n",
    "\n",
    "    # \"cos\": [np.cos(x) for x in X],\\\n",
    "     #\"plo\":[(x*x+x+1) for x in X],\\\n",
    "     #\"trig\": [np.cos(x) + np.sin(x) for x in X]}%matplotlib inlineN=M = {\"exp\": [np.exp(x) for x in X]}\n",
    "#DF.plot()\n",
    "import pandas as pd\n",
    "DF = pd.DataFrame(M)\n",
    "DF\n",
    "DF1 = pd.DataFrame(N)\n",
    "DF1\n",
    "#M\n",
    "%matplotlib inline\n",
    "DF.plot()\n",
    "DF1.plot()"
   ]
  },
  {
   "cell_type": "code",
   "execution_count": 14,
   "metadata": {},
   "outputs": [
    {
     "name": "stdout",
     "output_type": "stream",
     "text": [
      "9 1 81 9.9 0.0007508623654266925\n",
      "9 10 81 99.99 0.0003019505990582125\n",
      "9 100 81 999.999 4.967418700736899e-06\n",
      "9 1000 81 9999.9999 4.999672071508828e-08\n"
     ]
    }
   ],
   "source": [
    "# program-17\n",
    "#def circumference(r):\n",
    "#    C = 2*np.pi*r\n",
    "#    return C\n",
    "import numpy as np\n",
    "import pandas as pd\n",
    "%matplotlib inline\n",
    "\n",
    "\n",
    "#for r in [2,3,6]:\n",
    "for w in [1,10,100,1000]:\n",
    "    ee=5\n",
    "    r=9\n",
    "    ca=0.1\n",
    "    l=10\n",
    "    z1=r*r\n",
    "    z2=w*l-(1/w*ca)       \n",
    "    cc=ee/(z1*z1+z2*z2)\n",
    "    print(r,w,z1,z2,cc)\n",
    "    \n"
   ]
  },
  {
   "cell_type": "code",
   "execution_count": null,
   "metadata": {},
   "outputs": [],
   "source": []
  }
 ],
 "metadata": {
  "kernelspec": {
   "display_name": "Python 3",
   "language": "python",
   "name": "python3"
  },
  "language_info": {
   "codemirror_mode": {
    "name": "ipython",
    "version": 3
   },
   "file_extension": ".py",
   "mimetype": "text/x-python",
   "name": "python",
   "nbconvert_exporter": "python",
   "pygments_lexer": "ipython3",
   "version": "3.7.1"
  }
 },
 "nbformat": 4,
 "nbformat_minor": 2
}
